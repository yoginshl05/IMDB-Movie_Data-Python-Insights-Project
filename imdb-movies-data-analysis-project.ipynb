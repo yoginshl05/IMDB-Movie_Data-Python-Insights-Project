{
 "cells": [
  {
   "cell_type": "markdown",
   "metadata": {},
   "source": [
    "### We have the data for the 100 top-rated movies from the past decade along with various pieces of information about the movie, its actors, and the voters who have rated these movies online. In this, we will try to find some interesting insights into these movies and their voters, using Python."
   ]
  },
  {
   "cell_type": "code",
   "execution_count": null,
   "metadata": {
    "execution": {
     "iopub.execute_input": "2023-09-04T09:10:05.091158Z",
     "iopub.status.busy": "2023-09-04T09:10:05.090745Z",
     "iopub.status.idle": "2023-09-04T09:10:05.121710Z",
     "shell.execute_reply": "2023-09-04T09:10:05.120871Z",
     "shell.execute_reply.started": "2023-09-04T09:10:05.091123Z"
    },
    "trusted": true
   },
   "outputs": [],
   "source": [
    "## Let's Filter Out the warnings first\n",
    "\n",
    "import warnings\n",
    "warnings.filterwarnings('ignore')"
   ]
  },
  {
   "cell_type": "code",
   "execution_count": null,
   "metadata": {
    "execution": {
     "iopub.execute_input": "2023-09-04T09:10:05.123744Z",
     "iopub.status.busy": "2023-09-04T09:10:05.123246Z",
     "iopub.status.idle": "2023-09-04T09:10:06.468465Z",
     "shell.execute_reply": "2023-09-04T09:10:06.467620Z",
     "shell.execute_reply.started": "2023-09-04T09:10:05.123714Z"
    },
    "trusted": true
   },
   "outputs": [],
   "source": [
    "## Let's Import the necessary libraries to analyse and visiulize our data.\n",
    "\n",
    "import numpy as np\n",
    "import pandas as pd\n",
    "import matplotlib.pyplot as plt\n",
    "import seaborn as sns"
   ]
  },
  {
   "cell_type": "markdown",
   "metadata": {},
   "source": [
    "We have already uploaded the data set for the IMBD Top 100 movies. So lets read the dataset first and then go ahead with analysis for the same."
   ]
  },
  {
   "cell_type": "code",
   "execution_count": null,
   "metadata": {
    "execution": {
     "iopub.execute_input": "2023-09-04T09:10:06.470546Z",
     "iopub.status.busy": "2023-09-04T09:10:06.469901Z",
     "iopub.status.idle": "2023-09-04T09:10:06.498078Z",
     "shell.execute_reply": "2023-09-04T09:10:06.497207Z",
     "shell.execute_reply.started": "2023-09-04T09:10:06.470510Z"
    },
    "trusted": true
   },
   "outputs": [],
   "source": [
    "## Read the csv file using 'read_csv'. Please write your dataset location here.\n",
    "\n",
    "movies = pd.read_csv('/kaggle/input/imdb-movies-data-set/MovieAssignmentData.csv')"
   ]
  },
  {
   "cell_type": "markdown",
   "metadata": {},
   "source": [
    "As of now, we have loaded our dataset in a variable called \"movies\". Let's examine the loaded dataset for basic knowledge about the columns, rows, index, null values etc."
   ]
  },
  {
   "cell_type": "code",
   "execution_count": null,
   "metadata": {
    "execution": {
     "iopub.execute_input": "2023-09-04T09:10:06.501299Z",
     "iopub.status.busy": "2023-09-04T09:10:06.500594Z",
     "iopub.status.idle": "2023-09-04T09:10:06.540074Z",
     "shell.execute_reply": "2023-09-04T09:10:06.539001Z",
     "shell.execute_reply.started": "2023-09-04T09:10:06.501258Z"
    },
    "trusted": true
   },
   "outputs": [],
   "source": [
    "movies.head()"
   ]
  },
  {
   "cell_type": "code",
   "execution_count": null,
   "metadata": {
    "execution": {
     "iopub.execute_input": "2023-09-04T09:10:06.541651Z",
     "iopub.status.busy": "2023-09-04T09:10:06.541340Z",
     "iopub.status.idle": "2023-09-04T09:10:06.548161Z",
     "shell.execute_reply": "2023-09-04T09:10:06.546846Z",
     "shell.execute_reply.started": "2023-09-04T09:10:06.541624Z"
    },
    "trusted": true
   },
   "outputs": [],
   "source": [
    "## Check the no. of Rows & Columns\n",
    "\n",
    "movies.shape"
   ]
  },
  {
   "cell_type": "code",
   "execution_count": null,
   "metadata": {
    "execution": {
     "iopub.execute_input": "2023-09-04T09:10:06.549484Z",
     "iopub.status.busy": "2023-09-04T09:10:06.549155Z",
     "iopub.status.idle": "2023-09-04T09:10:06.578905Z",
     "shell.execute_reply": "2023-09-04T09:10:06.578101Z",
     "shell.execute_reply.started": "2023-09-04T09:10:06.549456Z"
    },
    "trusted": true
   },
   "outputs": [],
   "source": [
    "movies.info()"
   ]
  },
  {
   "cell_type": "code",
   "execution_count": null,
   "metadata": {
    "execution": {
     "iopub.execute_input": "2023-09-04T09:10:06.580713Z",
     "iopub.status.busy": "2023-09-04T09:10:06.579994Z",
     "iopub.status.idle": "2023-09-04T09:10:06.724527Z",
     "shell.execute_reply": "2023-09-04T09:10:06.723707Z",
     "shell.execute_reply.started": "2023-09-04T09:10:06.580683Z"
    },
    "trusted": true
   },
   "outputs": [],
   "source": [
    "movies.describe()"
   ]
  },
  {
   "cell_type": "markdown",
   "metadata": {},
   "source": [
    "#### As we can clearly interpret that there are very less null values in 5 columns and those columns do not contain any such matric that can hinder our analysis. Therefore, lets move towards the data manipulation, analysis, and visualisation to get various insights about the data. "
   ]
  },
  {
   "cell_type": "markdown",
   "metadata": {},
   "source": [
    "These numbers in the `budget` and `gross` are too big, compromising its readability. Let's convert the unit of the `budget` and `gross` columns from `$` to `million $` first."
   ]
  },
  {
   "cell_type": "code",
   "execution_count": null,
   "metadata": {
    "execution": {
     "iopub.execute_input": "2023-09-04T09:10:06.726154Z",
     "iopub.status.busy": "2023-09-04T09:10:06.725598Z",
     "iopub.status.idle": "2023-09-04T09:10:06.732425Z",
     "shell.execute_reply": "2023-09-04T09:10:06.731377Z",
     "shell.execute_reply.started": "2023-09-04T09:10:06.726121Z"
    },
    "trusted": true
   },
   "outputs": [],
   "source": [
    "# Divide the 'gross' and 'budget' columns by 1000000 to convert '$' to 'million $'\n",
    "\n",
    "movies.budget = movies.budget / 1000000\n",
    "movies.Gross = movies.Gross / 1000000"
   ]
  },
  {
   "cell_type": "code",
   "execution_count": null,
   "metadata": {
    "execution": {
     "iopub.execute_input": "2023-09-04T09:10:06.736234Z",
     "iopub.status.busy": "2023-09-04T09:10:06.735904Z",
     "iopub.status.idle": "2023-09-04T09:10:06.766117Z",
     "shell.execute_reply": "2023-09-04T09:10:06.765004Z",
     "shell.execute_reply.started": "2023-09-04T09:10:06.736208Z"
    },
    "trusted": true
   },
   "outputs": [],
   "source": [
    "## Examine the data for changes\n",
    "\n",
    "movies.head()"
   ]
  },
  {
   "cell_type": "code",
   "execution_count": null,
   "metadata": {
    "execution": {
     "iopub.execute_input": "2023-09-04T09:10:06.768443Z",
     "iopub.status.busy": "2023-09-04T09:10:06.768040Z",
     "iopub.status.idle": "2023-09-04T09:10:06.780408Z",
     "shell.execute_reply": "2023-09-04T09:10:06.779131Z",
     "shell.execute_reply.started": "2023-09-04T09:10:06.768404Z"
    },
    "trusted": true
   },
   "outputs": [],
   "source": [
    "## Lets us visualize the null values for all the columns present in the date. First Line gives us leverage \n",
    "## to show all the columns present in data set.\n",
    "\n",
    "\n",
    "pd.set_option('display.max_rows',100)\n",
    "movies.isnull().sum()"
   ]
  },
  {
   "cell_type": "code",
   "execution_count": null,
   "metadata": {},
   "outputs": [],
   "source": []
  },
  {
   "cell_type": "markdown",
   "metadata": {},
   "source": [
    "1. Create a new column called `profit` which contains the difference of the two columns: `gross` and `budget`.\n",
    "2. Sort the dataframe using the `profit` column as reference.\n",
    "3. Extract the top ten profiting movies in descending order and store them in a new dataframe - `top10`.\n",
    "4. Plot a scatter or a joint plot between the columns `budget` and `profit` and write a few words on what you observed.\n",
    "5. Extract the movies with a negative profit and store them in a new dataframe - `neg_profit`"
   ]
  },
  {
   "cell_type": "markdown",
   "metadata": {},
   "source": []
  },
  {
   "cell_type": "code",
   "execution_count": null,
   "metadata": {
    "execution": {
     "iopub.execute_input": "2023-09-04T09:10:06.782577Z",
     "iopub.status.busy": "2023-09-04T09:10:06.782186Z",
     "iopub.status.idle": "2023-09-04T09:10:06.813445Z",
     "shell.execute_reply": "2023-09-04T09:10:06.812367Z",
     "shell.execute_reply.started": "2023-09-04T09:10:06.782541Z"
    },
    "trusted": true
   },
   "outputs": [],
   "source": [
    "## Lets Create a new column \"profit\" = Gross - budget\n",
    "\n",
    "movies['profit'] = movies.Gross - movies.budget\n",
    "\n",
    "movies.head()"
   ]
  },
  {
   "cell_type": "code",
   "execution_count": null,
   "metadata": {
    "execution": {
     "iopub.execute_input": "2023-09-04T09:10:06.815548Z",
     "iopub.status.busy": "2023-09-04T09:10:06.814885Z",
     "iopub.status.idle": "2023-09-04T09:10:06.821796Z",
     "shell.execute_reply": "2023-09-04T09:10:06.821035Z",
     "shell.execute_reply.started": "2023-09-04T09:10:06.815509Z"
    },
    "trusted": true
   },
   "outputs": [],
   "source": [
    "# Sort the dataframe with the 'profit' column as reference using the 'sort_values' function. \n",
    "# Make sure to set the argument 'ascending' to 'False'\n",
    "\n",
    "movies.sort_values(by='profit', ascending=False, inplace=True)\n",
    "movies.reset_index(drop=True, inplace=True)"
   ]
  },
  {
   "cell_type": "code",
   "execution_count": null,
   "metadata": {
    "execution": {
     "iopub.execute_input": "2023-09-04T09:10:06.823981Z",
     "iopub.status.busy": "2023-09-04T09:10:06.823297Z",
     "iopub.status.idle": "2023-09-04T09:10:06.854465Z",
     "shell.execute_reply": "2023-09-04T09:10:06.853383Z",
     "shell.execute_reply.started": "2023-09-04T09:10:06.823925Z"
    },
    "trusted": true
   },
   "outputs": [],
   "source": [
    "movies.head()"
   ]
  },
  {
   "cell_type": "code",
   "execution_count": null,
   "metadata": {
    "execution": {
     "iopub.execute_input": "2023-09-04T09:10:06.856673Z",
     "iopub.status.busy": "2023-09-04T09:10:06.856018Z",
     "iopub.status.idle": "2023-09-04T09:10:06.890609Z",
     "shell.execute_reply": "2023-09-04T09:10:06.888529Z",
     "shell.execute_reply.started": "2023-09-04T09:10:06.856634Z"
    },
    "trusted": true
   },
   "outputs": [],
   "source": [
    "# Get the top 10 profitable movies by using position based indexing. Specify the rows till 10 (0-9)\n",
    "\n",
    "top10 = movies.iloc[0:10]\n",
    "top10"
   ]
  },
  {
   "cell_type": "code",
   "execution_count": null,
   "metadata": {
    "execution": {
     "iopub.execute_input": "2023-09-04T09:10:06.892407Z",
     "iopub.status.busy": "2023-09-04T09:10:06.892077Z",
     "iopub.status.idle": "2023-09-04T09:10:07.358778Z",
     "shell.execute_reply": "2023-09-04T09:10:07.357914Z",
     "shell.execute_reply.started": "2023-09-04T09:10:06.892369Z"
    },
    "trusted": true
   },
   "outputs": [],
   "source": [
    "#Plot profit vs budget\n",
    "\n",
    "plt.figure(figsize=[8,10])\n",
    "plt.scatter(movies.budget, movies.profit)\n",
    "\n",
    "plt.title('Relationship b/w Profit and Budget', fontdict= {'fontsize':30, 'fontweight':5, 'color':'Green'})\n",
    "\n",
    "plt.xlabel('Budget',fontdict= {'fontsize':15, 'fontweight':5, 'color':'Brown'} )\n",
    "plt.ylabel('Profit', fontdict= {'fontsize':15, 'fontweight':5, 'color':'Brown'})\n",
    "plt.show"
   ]
  },
  {
   "cell_type": "markdown",
   "metadata": {},
   "source": [
    "We can clearly see the relationship between Profit and budget, in the start of the plot we can see that as the budget increases the profit also increases. But as we go from left to right, we see that profit of some movies goes to negative as the budget increases. Hence, we can conclude that there is no linear relationship b/w these two variales."
   ]
  },
  {
   "cell_type": "markdown",
   "metadata": {},
   "source": [
    "The dataset contains the 100 best performing movies from the year 2010 to 2016. However, the scatter plot tells a different story. You can notice that there are some movies with negative profit. Although good movies do incur losses, but there appear to be quite a few movie with losses. What can be the reason behind this? Lets have a closer look at this by finding the movies with negative profit."
   ]
  },
  {
   "cell_type": "markdown",
   "metadata": {},
   "source": []
  },
  {
   "cell_type": "code",
   "execution_count": null,
   "metadata": {
    "execution": {
     "iopub.execute_input": "2023-09-04T09:10:07.360613Z",
     "iopub.status.busy": "2023-09-04T09:10:07.360065Z",
     "iopub.status.idle": "2023-09-04T09:10:07.400492Z",
     "shell.execute_reply": "2023-09-04T09:10:07.399354Z",
     "shell.execute_reply.started": "2023-09-04T09:10:07.360582Z"
    },
    "trusted": true
   },
   "outputs": [],
   "source": [
    "#Lets Find the movies with negative profit\n",
    "\n",
    "neg_profit = movies[movies['profit']<0].sort_values(by='profit', ascending=True)\n",
    "\n",
    "neg_profit"
   ]
  },
  {
   "cell_type": "markdown",
   "metadata": {},
   "source": [
    "We can spot the movie Tangled in the dataset? We may be aware of the movie 'Tangled'. Although its one of the highest grossing movies of all time, it has negative profit as per this result. If we cross check the gross values of this movie (link: https://www.imdb.com/title/tt0398286/), we can see that the gross in the dataset accounts only for the domestic gross and not the worldwide gross. This is true for may other movies also in the list."
   ]
  },
  {
   "cell_type": "markdown",
   "metadata": {},
   "source": [
    "We might have noticed the column MetaCritic in this dataset. This is a very popular website where an average score is determined through the scores given by the top-rated critics. Second, you also have another column IMDb_rating which tells you the IMDb rating of a movie. This rating is determined by taking the average of hundred-thousands of ratings from the general audience.\n",
    "\n",
    "As a part of this subtask, you are required to find out the highest rated movies which have been liked by critics and audiences alike.\n",
    "\n",
    "Firstly you will notice that the MetaCritic score is on a scale of 100 whereas the IMDb_rating is on a scale of 10. First convert the MetaCritic column to a scale of 10.\n",
    "Now, to find out the movies which have been liked by both critics and audiences alike and also have a high rating overall, you need to -\n",
    "\n",
    "1. Create a new column Avg_rating which will have the average of the MetaCritic and Rating columns\n",
    "2. Retain only the movies in which the absolute difference(using abs() function) between the IMDb_rating and Metacritic columns is less than 0.5. Refer to this link to know how abs() funtion works - https://www.geeksforgeeks.org/abs-in-python/ .\n",
    "3. Sort these values in a descending order of Avg_rating and retain only the movies with a rating equal to or greater than 8 and store these movies in a new dataframe UniversalAcclaim."
   ]
  },
  {
   "cell_type": "code",
   "execution_count": null,
   "metadata": {
    "execution": {
     "iopub.execute_input": "2023-09-04T09:10:07.402532Z",
     "iopub.status.busy": "2023-09-04T09:10:07.402071Z",
     "iopub.status.idle": "2023-09-04T09:10:07.410294Z",
     "shell.execute_reply": "2023-09-04T09:10:07.408949Z",
     "shell.execute_reply.started": "2023-09-04T09:10:07.402489Z"
    },
    "trusted": true
   },
   "outputs": [],
   "source": [
    "movies.columns"
   ]
  },
  {
   "cell_type": "code",
   "execution_count": null,
   "metadata": {
    "execution": {
     "iopub.execute_input": "2023-09-04T09:10:07.412405Z",
     "iopub.status.busy": "2023-09-04T09:10:07.411707Z",
     "iopub.status.idle": "2023-09-04T09:10:07.425251Z",
     "shell.execute_reply": "2023-09-04T09:10:07.424219Z",
     "shell.execute_reply.started": "2023-09-04T09:10:07.412367Z"
    },
    "trusted": true
   },
   "outputs": [],
   "source": [
    "movies.MetaCritic.head()\n"
   ]
  },
  {
   "cell_type": "code",
   "execution_count": null,
   "metadata": {
    "execution": {
     "iopub.execute_input": "2023-09-04T09:10:07.427064Z",
     "iopub.status.busy": "2023-09-04T09:10:07.426658Z",
     "iopub.status.idle": "2023-09-04T09:10:07.439901Z",
     "shell.execute_reply": "2023-09-04T09:10:07.438708Z",
     "shell.execute_reply.started": "2023-09-04T09:10:07.427029Z"
    },
    "trusted": true
   },
   "outputs": [],
   "source": [
    "movies.IMDb_rating.head()"
   ]
  },
  {
   "cell_type": "markdown",
   "metadata": {},
   "source": []
  },
  {
   "cell_type": "code",
   "execution_count": null,
   "metadata": {
    "execution": {
     "iopub.execute_input": "2023-09-04T09:10:07.441704Z",
     "iopub.status.busy": "2023-09-04T09:10:07.441322Z",
     "iopub.status.idle": "2023-09-04T09:10:07.454183Z",
     "shell.execute_reply": "2023-09-04T09:10:07.453184Z",
     "shell.execute_reply.started": "2023-09-04T09:10:07.441670Z"
    },
    "trusted": true
   },
   "outputs": [],
   "source": [
    "movies.MetaCritic = movies.MetaCritic/10\n",
    "movies.MetaCritic.head()"
   ]
  },
  {
   "cell_type": "code",
   "execution_count": null,
   "metadata": {
    "execution": {
     "iopub.execute_input": "2023-09-04T09:10:07.456511Z",
     "iopub.status.busy": "2023-09-04T09:10:07.455570Z",
     "iopub.status.idle": "2023-09-04T09:10:07.495039Z",
     "shell.execute_reply": "2023-09-04T09:10:07.493794Z",
     "shell.execute_reply.started": "2023-09-04T09:10:07.456473Z"
    },
    "trusted": true
   },
   "outputs": [],
   "source": [
    "## Let's Find the Avg_rating of the movies by taking the mean of \"MetaCritic\" & \"IMDb_rating\"\n",
    "## The Avg_rating will be stored in a new Column of the dataframe (movies)\n",
    "\n",
    "movies['Avg_Rating'] = movies.loc[:, ['MetaCritic', 'IMDb_rating']].mean(axis=1)\n",
    "\n",
    "movies.head()"
   ]
  },
  {
   "cell_type": "code",
   "execution_count": null,
   "metadata": {
    "execution": {
     "iopub.execute_input": "2023-09-04T09:10:07.496922Z",
     "iopub.status.busy": "2023-09-04T09:10:07.496502Z",
     "iopub.status.idle": "2023-09-04T09:10:07.508434Z",
     "shell.execute_reply": "2023-09-04T09:10:07.507627Z",
     "shell.execute_reply.started": "2023-09-04T09:10:07.496892Z"
    },
    "trusted": true
   },
   "outputs": [],
   "source": [
    "## Let's analyze the Avg_Rating column values now.\n",
    "\n",
    "movies.Avg_Rating.describe()"
   ]
  },
  {
   "cell_type": "markdown",
   "metadata": {},
   "source": [
    "\"Avg_Rating\" column's numerical analysis clearly states :\n",
    "1. All the values lies b/w Rating 6.9 to 8.95.\n",
    "2. 75% values are on or above rating 8.10\n",
    "3. Max Rating for the film is 8.95.\n"
   ]
  },
  {
   "cell_type": "code",
   "execution_count": null,
   "metadata": {
    "execution": {
     "iopub.execute_input": "2023-09-04T09:10:07.510518Z",
     "iopub.status.busy": "2023-09-04T09:10:07.509590Z",
     "iopub.status.idle": "2023-09-04T09:10:07.537552Z",
     "shell.execute_reply": "2023-09-04T09:10:07.536392Z",
     "shell.execute_reply.started": "2023-09-04T09:10:07.510480Z"
    },
    "trusted": true
   },
   "outputs": [],
   "source": [
    "## Our current DataFrame is sorted based on the \"Profit\" earlier to find the Neg-Profit movies.\n",
    "\n",
    "## Let's sort the DataFrame by \"Avg_rating\" descending now.\n",
    "\n",
    "movies.sort_values(by=\"Avg_Rating\", ascending=False, inplace=True)\n",
    "movies.reset_index(drop=True, inplace=True)\n",
    "\n",
    "movies.head()"
   ]
  },
  {
   "cell_type": "code",
   "execution_count": null,
   "metadata": {
    "execution": {
     "iopub.execute_input": "2023-09-04T09:10:07.545248Z",
     "iopub.status.busy": "2023-09-04T09:10:07.544890Z",
     "iopub.status.idle": "2023-09-04T09:10:07.576557Z",
     "shell.execute_reply": "2023-09-04T09:10:07.575174Z",
     "shell.execute_reply.started": "2023-09-04T09:10:07.545219Z"
    },
    "trusted": true
   },
   "outputs": [],
   "source": [
    "##  Find the movies with metacritic-Imdb rating < 0.5 \n",
    "## Also with an average rating of >= 8 (sorted in descending order)\n",
    "\n",
    "UniversalAcclaim = movies[(abs(movies['IMDb_rating']-movies['MetaCritic'])<0.5) & (movies['Avg_Rating']>=8)]\n",
    "\n",
    "UniversalAcclaim.sort_values(by='Avg_Rating', ascending=False, inplace=True)\n",
    "UniversalAcclaim.reset_index(drop=True, inplace=True)\n",
    "\n",
    "UniversalAcclaim.head()"
   ]
  },
  {
   "cell_type": "code",
   "execution_count": null,
   "metadata": {
    "execution": {
     "iopub.execute_input": "2023-09-04T09:10:07.579688Z",
     "iopub.status.busy": "2023-09-04T09:10:07.579203Z",
     "iopub.status.idle": "2023-09-04T09:10:07.607044Z",
     "shell.execute_reply": "2023-09-04T09:10:07.605986Z",
     "shell.execute_reply.started": "2023-09-04T09:10:07.579646Z"
    },
    "trusted": true
   },
   "outputs": [],
   "source": [
    "## Let's have look at our DataFrame now.\n",
    "\n",
    "movies.head()"
   ]
  },
  {
   "cell_type": "markdown",
   "metadata": {},
   "source": [
    "### Find the Most Popular Trios - I\n",
    "You're a producer looking to make a blockbuster movie. There will primarily be three lead roles in your movie and you wish to cast the most popular actors for it. Now, since you don't want to take a risk, you will cast a trio which has already acted in together in a movie before. The metric that you've chosen to check the popularity is the Facebook likes of each of these actors.\n",
    "\n",
    "The dataframe has three columns to help you out for the same, viz. actor_1_facebook_likes, actor_2_facebook_likes, and actor_3_facebook_likes. Your objective is to find the trios which has the most number of Facebook likes combined. That is, the sum of actor_1_facebook_likes, actor_2_facebook_likes and actor_3_facebook_likes should be maximum. Find out the top 5 popular trios, and output their names in a list."
   ]
  },
  {
   "cell_type": "code",
   "execution_count": null,
   "metadata": {
    "execution": {
     "iopub.execute_input": "2023-09-04T09:10:07.608542Z",
     "iopub.status.busy": "2023-09-04T09:10:07.608143Z",
     "iopub.status.idle": "2023-09-04T09:10:07.655927Z",
     "shell.execute_reply": "2023-09-04T09:10:07.654814Z",
     "shell.execute_reply.started": "2023-09-04T09:10:07.608488Z"
    },
    "trusted": true
   },
   "outputs": [],
   "source": [
    "### Let's add a new column with name \"TotalLikes\"\n",
    "\n",
    "movies['TotalLikes'] = movies.actor_1_facebook_likes + movies.actor_2_facebook_likes + movies.actor_3_facebook_likes\n",
    "\n",
    "## Now lets sort the data as per \"TotalLikes\"\n",
    "\n",
    "movies.sort_values(by=\"TotalLikes\", ascending=False, inplace=True)\n",
    "movies.reset_index(drop=True, inplace=True)\n",
    "\n",
    "movies.head()"
   ]
  },
  {
   "cell_type": "code",
   "execution_count": null,
   "metadata": {
    "execution": {
     "iopub.execute_input": "2023-09-04T09:10:07.658216Z",
     "iopub.status.busy": "2023-09-04T09:10:07.657555Z",
     "iopub.status.idle": "2023-09-04T09:10:07.668814Z",
     "shell.execute_reply": "2023-09-04T09:10:07.667678Z",
     "shell.execute_reply.started": "2023-09-04T09:10:07.658177Z"
    },
    "trusted": true
   },
   "outputs": [],
   "source": [
    "### Let's put Output for top 5 trios in a list\n",
    "\n",
    "top_5_triolist = movies.head(5)[['actor_1_name','actor_2_name','actor_3_name']].values.tolist()\n",
    "\n",
    "top_5_triolist"
   ]
  },
  {
   "cell_type": "markdown",
   "metadata": {},
   "source": [
    "### Find the Most Popular Trios - II\n",
    "In the previous subtask you found the popular trio based on the total number of facebook likes. Let's add a small condition to it and make sure that all three actors are popular. The condition is none of the three actors' Facebook likes should be less than half of the other two. For example, the following is a valid combo:\n",
    "\n",
    "actor_1_facebook_likes: 70000\n",
    "actor_2_facebook_likes: 40000\n",
    "actor_3_facebook_likes: 50000\n",
    "But the below one is not:\n",
    "\n",
    "actor_1_facebook_likes: 70000\n",
    "actor_2_facebook_likes: 40000\n",
    "actor_3_facebook_likes: 30000\n",
    "since in this case, actor_3_facebook_likes is 30000, which is less than half of actor_1_facebook_likes.\n",
    "\n",
    "Having this condition ensures that you aren't getting any unpopular actor in your trio (since the total likes calculated in the previous question doesn't tell anything about the individual popularities of each actor in the trio.).\n",
    "\n",
    "You can do a manual inspection of the top 5 popular trios you have found in the previous subtask and check how many of those trios satisfy this condition. Also, which is the most popular trio after applying the condition above?\n"
   ]
  },
  {
   "cell_type": "code",
   "execution_count": null,
   "metadata": {
    "execution": {
     "iopub.execute_input": "2023-09-04T09:10:07.671148Z",
     "iopub.status.busy": "2023-09-04T09:10:07.670443Z",
     "iopub.status.idle": "2023-09-04T09:10:07.681957Z",
     "shell.execute_reply": "2023-09-04T09:10:07.680557Z",
     "shell.execute_reply.started": "2023-09-04T09:10:07.671108Z"
    },
    "trusted": true
   },
   "outputs": [],
   "source": [
    "act1= movies['actor_1_facebook_likes']/2\n",
    "act2= movies['actor_2_facebook_likes']/2\n",
    "act3= movies['actor_3_facebook_likes']/2\n",
    "\n",
    "a=((movies['actor_1_facebook_likes'] > act1) & (movies['actor_1_facebook_likes']>act3))\n",
    "b=((movies['actor_2_facebook_likes'] > act2) & (movies['actor_2_facebook_likes']>act3))\n",
    "c=((movies['actor_3_facebook_likes'] > act3) & (movies['actor_3_facebook_likes']>act2))\n",
    "eligible=a & b & c"
   ]
  },
  {
   "cell_type": "code",
   "execution_count": null,
   "metadata": {
    "execution": {
     "iopub.execute_input": "2023-09-04T09:10:07.684552Z",
     "iopub.status.busy": "2023-09-04T09:10:07.683785Z",
     "iopub.status.idle": "2023-09-04T09:10:07.714989Z",
     "shell.execute_reply": "2023-09-04T09:10:07.713909Z",
     "shell.execute_reply.started": "2023-09-04T09:10:07.684502Z"
    },
    "trusted": true
   },
   "outputs": [],
   "source": [
    "## Lets add the eligible column in DataFrame - movies\n",
    "\n",
    "movies['eligible']=eligible\n",
    "\n",
    "movies.loc[eligible, ['eligible', 'actor_1_name','actor_2_name','actor_3_name']]"
   ]
  },
  {
   "cell_type": "markdown",
   "metadata": {},
   "source": []
  },
  {
   "cell_type": "markdown",
   "metadata": {},
   "source": [
    "### Runtime Analysis\n",
    "There is a column named Runtime in the dataframe which primarily shows the length of the movie. It might be intersting to see how this variable this distributed. Plot a histogram or distplot of seaborn to find the Runtime range most of the movies fall into."
   ]
  },
  {
   "cell_type": "code",
   "execution_count": null,
   "metadata": {
    "execution": {
     "iopub.execute_input": "2023-09-04T09:10:07.717153Z",
     "iopub.status.busy": "2023-09-04T09:10:07.716484Z",
     "iopub.status.idle": "2023-09-04T09:10:08.089493Z",
     "shell.execute_reply": "2023-09-04T09:10:08.088106Z",
     "shell.execute_reply.started": "2023-09-04T09:10:07.717114Z"
    },
    "trusted": true
   },
   "outputs": [],
   "source": [
    "## Let's Plot a histogram b/w the Runtime & Count of movies to determine the ideal length.\n",
    "\n",
    "plt.figure(figsize=[8,6])\n",
    "sns.set_style(\"whitegrid\")\n",
    "\n",
    "Runtime_plot = sns.histplot(data=movies, x=\"Runtime\",  bins=10, color=\"Red\", stat =\"count\")\n",
    " \n",
    "Runtime_plot.set_title(\"Distribution of Movies RunTime\", fontdict = {\"fontsize\":20, 'fontweight':10, 'color':'Green'})\n",
    "Runtime_plot.set_xlabel('Runtime of the Movie', fontdict = {\"fontsize\":15, 'fontweight':5, 'color':'Brown'})\n",
    "Runtime_plot.set_ylabel('Count of Movies', fontdict = {\"fontsize\":15, 'fontweight':5, 'color':'Brown'})\n",
    "\n",
    "plt.show()"
   ]
  },
  {
   "cell_type": "markdown",
   "metadata": {},
   "source": [
    "#### We can clearly see that most no. of movies have the Run Time of 2 hours. Hence, this can be concluded that a 2 hour movie will perform good in market in term on RunTime."
   ]
  },
  {
   "cell_type": "markdown",
   "metadata": {},
   "source": [
    "## R-Rated Movies\n",
    "Although R rated movies are restricted movies for the under 18 age group, still there are vote counts from that age group. Among all the R rated movies that have been voted by the under-18 age group, find the top 10 movies that have the highest number of votes i.e.CVotesU18 from the movies dataframe. Store these in a dataframe named PopularR."
   ]
  },
  {
   "cell_type": "code",
   "execution_count": null,
   "metadata": {
    "execution": {
     "iopub.execute_input": "2023-09-04T09:10:08.092264Z",
     "iopub.status.busy": "2023-09-04T09:10:08.091492Z",
     "iopub.status.idle": "2023-09-04T09:10:08.099234Z",
     "shell.execute_reply": "2023-09-04T09:10:08.098150Z",
     "shell.execute_reply.started": "2023-09-04T09:10:08.092224Z"
    },
    "trusted": true
   },
   "outputs": [],
   "source": [
    "movies.columns"
   ]
  },
  {
   "cell_type": "code",
   "execution_count": null,
   "metadata": {
    "execution": {
     "iopub.execute_input": "2023-09-04T09:10:08.101192Z",
     "iopub.status.busy": "2023-09-04T09:10:08.100782Z",
     "iopub.status.idle": "2023-09-04T09:10:08.117420Z",
     "shell.execute_reply": "2023-09-04T09:10:08.116279Z",
     "shell.execute_reply.started": "2023-09-04T09:10:08.101154Z"
    },
    "trusted": true
   },
   "outputs": [],
   "source": [
    "movies.content_rating.head(10)"
   ]
  },
  {
   "cell_type": "code",
   "execution_count": null,
   "metadata": {
    "execution": {
     "iopub.execute_input": "2023-09-04T09:10:08.119763Z",
     "iopub.status.busy": "2023-09-04T09:10:08.118825Z",
     "iopub.status.idle": "2023-09-04T09:10:08.142433Z",
     "shell.execute_reply": "2023-09-04T09:10:08.141241Z",
     "shell.execute_reply.started": "2023-09-04T09:10:08.119724Z"
    },
    "trusted": true
   },
   "outputs": [],
   "source": [
    "PopularR=movies[movies['content_rating']=='R'].sort_values(by='CVotesU18', ascending=False)\n",
    "\n",
    "PopularR.reset_index(drop=True, inplace=True)\n",
    "\n",
    "PopularR[['Title', 'CVotesU18']].head(10)\n"
   ]
  },
  {
   "cell_type": "markdown",
   "metadata": {},
   "source": []
  },
  {
   "cell_type": "markdown",
   "metadata": {},
   "source": [
    "#### Yeah, Kids under 18 are watching the \"deadpool\" a lot since, this movie has a '4598' votes from under 18 group."
   ]
  },
  {
   "cell_type": "markdown",
   "metadata": {},
   "source": []
  },
  {
   "cell_type": "markdown",
   "metadata": {},
   "source": [
    "## Task 3 : Demographic analysis\n",
    "If you take a look at the last columns in the dataframe, most of these are related to demographics of the voters (in the last subtask, i.e., 2.8, you made use one of these columns - CVotesU18). We also have three genre columns indicating the genres of a particular movie. We will extensively use these columns for the third and the final stage of our assignment wherein we will analyse the voters across all demographics and also see how these vary across various genres. So without further ado, let's get started with demographic analysis."
   ]
  },
  {
   "cell_type": "markdown",
   "metadata": {},
   "source": [
    "### Subtask 3.1 Combine the Dataframe by Genres\n",
    "There are 3 columns in the dataframe - genre_1, genre_2, and genre_3. As a part of this subtask, you need to aggregate a few values over these 3 columns.\n",
    "\n",
    "1. First create a new dataframe df_by_genre that contains genre_1, genre_2, and genre_3 and all the columns related to CVotes/Votes from the movies data frame. There are 47 columns to be extracted in total.\n",
    "2. Now, Add a column called cnt to the dataframe df_by_genre and initialize it to one. You will realise the use of this column by the end of this subtask.\n",
    "3. First group the dataframe df_by_genre by genre_1 and find the sum of all the numeric columns such as cnt, columns related to CVotes and Votes columns and store it in a dataframe df_by_g1.\n",
    "4. Perform the same operation for genre_2 and genre_3 and store it dataframes df_by_g2 and df_by_g3 respectively.\n",
    "5. Now that you have 3 dataframes performed by grouping over genre_1, genre_2, and genre_3 separately, it's time to combine them. For this, add the three dataframes and store it in a new dataframe df_add, so that the corresponding values of Votes/CVotes get added for each genre.There is a function called add() in pandas which lets you do this. You can refer to this link to see how this function works. https://pandas.pydata.org/pandas-docs/version/0.23.4/generated/pandas.DataFrame.add.html\n",
    "6. The column cnt on aggregation has basically kept the track of the number of occurences of each genre.Subset the genres that have atleast 10 movies into a new dataframe genre_top10 based on the cnt column value.\n",
    "7. Now, take the mean of all the numeric columns by dividing them with the column value cnt and store it back to the same dataframe. We will be using this dataframe for further analysis in this task unless it is explicitly mentioned to use the dataframe movies.\n",
    "8. Since the number of votes can't be a fraction, type cast all the CVotes related columns to integers. Also, round off all the Votes related columns upto two digits after the decimal point."
   ]
  },
  {
   "cell_type": "code",
   "execution_count": null,
   "metadata": {
    "execution": {
     "iopub.execute_input": "2023-09-04T09:10:08.144182Z",
     "iopub.status.busy": "2023-09-04T09:10:08.143773Z",
     "iopub.status.idle": "2023-09-04T09:10:08.173491Z",
     "shell.execute_reply": "2023-09-04T09:10:08.172358Z",
     "shell.execute_reply.started": "2023-09-04T09:10:08.144145Z"
    },
    "trusted": true
   },
   "outputs": [],
   "source": [
    "movies.head()"
   ]
  },
  {
   "cell_type": "code",
   "execution_count": null,
   "metadata": {
    "execution": {
     "iopub.execute_input": "2023-09-04T09:10:08.175868Z",
     "iopub.status.busy": "2023-09-04T09:10:08.174856Z",
     "iopub.status.idle": "2023-09-04T09:10:08.193050Z",
     "shell.execute_reply": "2023-09-04T09:10:08.191718Z",
     "shell.execute_reply.started": "2023-09-04T09:10:08.175830Z"
    },
    "trusted": true
   },
   "outputs": [],
   "source": [
    "movies.columns"
   ]
  },
  {
   "cell_type": "code",
   "execution_count": null,
   "metadata": {
    "execution": {
     "iopub.execute_input": "2023-09-04T09:10:08.195284Z",
     "iopub.status.busy": "2023-09-04T09:10:08.194498Z",
     "iopub.status.idle": "2023-09-04T09:10:08.211637Z",
     "shell.execute_reply": "2023-09-04T09:10:08.210537Z",
     "shell.execute_reply.started": "2023-09-04T09:10:08.195251Z"
    },
    "trusted": true
   },
   "outputs": [],
   "source": [
    "movies.shape"
   ]
  },
  {
   "cell_type": "code",
   "execution_count": null,
   "metadata": {
    "execution": {
     "iopub.execute_input": "2023-09-04T09:10:08.213602Z",
     "iopub.status.busy": "2023-09-04T09:10:08.213283Z",
     "iopub.status.idle": "2023-09-04T09:10:08.231765Z",
     "shell.execute_reply": "2023-09-04T09:10:08.231005Z",
     "shell.execute_reply.started": "2023-09-04T09:10:08.213574Z"
    },
    "trusted": true
   },
   "outputs": [],
   "source": [
    "## Lets create new Data Frame \"df_by_genre\" which has columns starting from 'genre-1' till all CVotes/Votes. \n",
    "\n",
    "## After examining we can clearly see that we will need to extract the columns from 12-60 & drop columns (MetaCritic', 'Runtime')\n",
    "\n",
    "df_by_genre = movies.iloc[:,11:60]\n",
    "df_by_genre = df_by_genre.drop(columns=['MetaCritic', 'Runtime'])\n",
    "df_by_genre.shape"
   ]
  },
  {
   "cell_type": "code",
   "execution_count": null,
   "metadata": {
    "execution": {
     "iopub.execute_input": "2023-09-04T09:10:08.233568Z",
     "iopub.status.busy": "2023-09-04T09:10:08.233094Z",
     "iopub.status.idle": "2023-09-04T09:10:08.270477Z",
     "shell.execute_reply": "2023-09-04T09:10:08.269507Z",
     "shell.execute_reply.started": "2023-09-04T09:10:08.233532Z"
    },
    "trusted": true
   },
   "outputs": [],
   "source": [
    "df_by_genre.head()"
   ]
  },
  {
   "cell_type": "code",
   "execution_count": null,
   "metadata": {
    "execution": {
     "iopub.execute_input": "2023-09-04T09:10:08.272063Z",
     "iopub.status.busy": "2023-09-04T09:10:08.271729Z",
     "iopub.status.idle": "2023-09-04T09:10:08.277432Z",
     "shell.execute_reply": "2023-09-04T09:10:08.276227Z",
     "shell.execute_reply.started": "2023-09-04T09:10:08.272036Z"
    },
    "trusted": true
   },
   "outputs": [],
   "source": [
    "### Let's add a new column 'cnt' and intialize it to 1\n",
    "\n",
    "df_by_genre['cnt']=1"
   ]
  },
  {
   "cell_type": "code",
   "execution_count": null,
   "metadata": {
    "execution": {
     "iopub.execute_input": "2023-09-04T09:10:08.279541Z",
     "iopub.status.busy": "2023-09-04T09:10:08.278731Z",
     "iopub.status.idle": "2023-09-04T09:10:08.314623Z",
     "shell.execute_reply": "2023-09-04T09:10:08.313601Z",
     "shell.execute_reply.started": "2023-09-04T09:10:08.279513Z"
    },
    "trusted": true
   },
   "outputs": [],
   "source": [
    "df_by_genre.head()"
   ]
  },
  {
   "cell_type": "code",
   "execution_count": null,
   "metadata": {
    "execution": {
     "iopub.execute_input": "2023-09-04T09:10:08.316256Z",
     "iopub.status.busy": "2023-09-04T09:10:08.315911Z",
     "iopub.status.idle": "2023-09-04T09:10:08.328250Z",
     "shell.execute_reply": "2023-09-04T09:10:08.327340Z",
     "shell.execute_reply.started": "2023-09-04T09:10:08.316228Z"
    },
    "trusted": true
   },
   "outputs": [],
   "source": [
    "### Lets group the movies by the all genres\n",
    "\n",
    "df_by_genre_1 = df_by_genre.groupby(by='genre_1').sum()\n",
    "df_by_genre_2 = df_by_genre.groupby(by='genre_2').sum()\n",
    "df_by_genre_3 = df_by_genre.groupby(by='genre_3').sum()"
   ]
  },
  {
   "cell_type": "code",
   "execution_count": null,
   "metadata": {
    "execution": {
     "iopub.execute_input": "2023-09-04T09:10:08.329833Z",
     "iopub.status.busy": "2023-09-04T09:10:08.329415Z",
     "iopub.status.idle": "2023-09-04T09:10:08.402053Z",
     "shell.execute_reply": "2023-09-04T09:10:08.400954Z",
     "shell.execute_reply.started": "2023-09-04T09:10:08.329796Z"
    },
    "trusted": true
   },
   "outputs": [],
   "source": [
    "## Add the grouped Date Frames and store in a new DataFrama 'df_add'\n",
    "\n",
    "df_add = df_by_genre_1.add(df_by_genre_2, fill_value=0)\n",
    "df_add = df_add.add(df_by_genre_3, fill_value=0)\n",
    "\n",
    "df_add"
   ]
  },
  {
   "cell_type": "markdown",
   "metadata": {},
   "source": [
    "#### We can clearly see the \"cnt\" column has entries equal to the times the same genre was present in the data set. This count increased when we grouped the data by individual genres in the dataset."
   ]
  },
  {
   "cell_type": "code",
   "execution_count": null,
   "metadata": {
    "execution": {
     "iopub.execute_input": "2023-09-04T09:10:08.403612Z",
     "iopub.status.busy": "2023-09-04T09:10:08.403259Z",
     "iopub.status.idle": "2023-09-04T09:10:08.449091Z",
     "shell.execute_reply": "2023-09-04T09:10:08.447843Z",
     "shell.execute_reply.started": "2023-09-04T09:10:08.403580Z"
    },
    "trusted": true
   },
   "outputs": [],
   "source": [
    "### Let's Extract the Top 10 Genres by see that the Genre has atleast 10 occurences\n",
    "\n",
    "genre_top_10 = df_add[df_add['cnt']>=10]\n",
    "\n",
    "genre_top_10"
   ]
  },
  {
   "cell_type": "code",
   "execution_count": null,
   "metadata": {
    "execution": {
     "iopub.execute_input": "2023-09-04T09:10:08.451219Z",
     "iopub.status.busy": "2023-09-04T09:10:08.450565Z",
     "iopub.status.idle": "2023-09-04T09:10:08.479305Z",
     "shell.execute_reply": "2023-09-04T09:10:08.478514Z",
     "shell.execute_reply.started": "2023-09-04T09:10:08.451178Z"
    },
    "trusted": true
   },
   "outputs": [],
   "source": [
    "### Let's Take the mean for every column by dividing from 'cnt' column, since mean will give the most consolidated statistics about the popular genre.\n",
    "\n",
    "genre_top_10.iloc[:, 0:44] = genre_top_10.iloc[:, 0:44].divide(genre_top_10.cnt, axis=0)\n",
    "\n",
    "genre_top_10.head()"
   ]
  },
  {
   "cell_type": "code",
   "execution_count": null,
   "metadata": {
    "execution": {
     "iopub.execute_input": "2023-09-04T09:10:08.481274Z",
     "iopub.status.busy": "2023-09-04T09:10:08.480426Z",
     "iopub.status.idle": "2023-09-04T09:10:08.528507Z",
     "shell.execute_reply": "2023-09-04T09:10:08.527384Z",
     "shell.execute_reply.started": "2023-09-04T09:10:08.481236Z"
    },
    "trusted": true
   },
   "outputs": [],
   "source": [
    "# Rounding off the columns of Votes to two decimals\n",
    "\n",
    "genre_top_10 = genre_top_10.apply(lambda x : round(x,2), axis=0)\n",
    "\n",
    "genre_top_10.head()"
   ]
  },
  {
   "cell_type": "code",
   "execution_count": null,
   "metadata": {
    "execution": {
     "iopub.execute_input": "2023-09-04T09:10:08.530087Z",
     "iopub.status.busy": "2023-09-04T09:10:08.529747Z",
     "iopub.status.idle": "2023-09-04T09:10:08.571120Z",
     "shell.execute_reply": "2023-09-04T09:10:08.569956Z",
     "shell.execute_reply.started": "2023-09-04T09:10:08.530059Z"
    },
    "trusted": true
   },
   "outputs": [],
   "source": [
    "### Now, lets covert all the Cvotes columns in to Integer Type - To plot the Graphs\n",
    "\n",
    "CVotes=[]\n",
    "for i in genre_top_10.columns:\n",
    "    if i.startswith('CVotes'):\n",
    "        CVotes.append(i)\n",
    "        \n",
    "genre_top_10[CVotes] = genre_top_10[CVotes].astype('int32')\n",
    "\n",
    "genre_top_10.head()"
   ]
  },
  {
   "cell_type": "markdown",
   "metadata": {},
   "source": [
    "#### If you take a look at the final dataframe that you have gotten, you will see that you now have the complete information about all the demographic (Votes- and CVotes-related) columns across the top 10 genres. We can use this dataset to extract exciting insights about the voters!"
   ]
  },
  {
   "cell_type": "markdown",
   "metadata": {},
   "source": []
  },
  {
   "cell_type": "markdown",
   "metadata": {},
   "source": [
    "### Subtask 3.2: Genre Counts!\n",
    "\n",
    "Now let's derive some insights from this data frame. Make a bar chart plotting different genres vs cnt using seaborn."
   ]
  },
  {
   "cell_type": "code",
   "execution_count": null,
   "metadata": {
    "execution": {
     "iopub.execute_input": "2023-09-04T09:10:08.573343Z",
     "iopub.status.busy": "2023-09-04T09:10:08.572483Z",
     "iopub.status.idle": "2023-09-04T09:10:08.604349Z",
     "shell.execute_reply": "2023-09-04T09:10:08.602717Z",
     "shell.execute_reply.started": "2023-09-04T09:10:08.573300Z"
    },
    "trusted": true
   },
   "outputs": [],
   "source": [
    "## Lets change the index to Genre and name the Index = Genre\n",
    "\n",
    "genre_top_10 = genre_top_10.reset_index()\n",
    "genre_top_10 = genre_top_10.rename(columns={\"index\":\"Genre\"})\n",
    "\n",
    "genre_top_10.head()"
   ]
  },
  {
   "cell_type": "code",
   "execution_count": null,
   "metadata": {
    "execution": {
     "iopub.execute_input": "2023-09-04T09:10:08.608148Z",
     "iopub.status.busy": "2023-09-04T09:10:08.607682Z",
     "iopub.status.idle": "2023-09-04T09:10:09.105609Z",
     "shell.execute_reply": "2023-09-04T09:10:09.104784Z",
     "shell.execute_reply.started": "2023-09-04T09:10:08.608106Z"
    },
    "trusted": true
   },
   "outputs": [],
   "source": [
    "## Now, lets plot a Countplot for Genres vs count \n",
    "\n",
    "plt.figure(figsize=[10,8])\n",
    "sns.set_style(\"whitegrid\")\n",
    "\n",
    "genre_plot = sns.barplot(y=genre_top_10.cnt, color='Red', x= genre_top_10.Genre)\n",
    " \n",
    "genre_plot.set_title(\"Movies Genre VS Count\", fontdict = {\"fontsize\":20, 'fontweight':10, 'color':'Green'})\n",
    "genre_plot.set_xlabel('Genre of the Movie', fontdict = {\"fontsize\":15, 'fontweight':5, 'color':'Brown'})\n",
    "genre_plot.set_ylabel('Count of Movies', fontdict = {\"fontsize\":15, 'fontweight':5, 'color':'Brown'})\n",
    "\n",
    "plt.show"
   ]
  },
  {
   "cell_type": "markdown",
   "metadata": {},
   "source": [
    "#### This can be clearly interpreted by the Countplot that - \"Drama\" is the most watched Genre in the movies."
   ]
  },
  {
   "cell_type": "markdown",
   "metadata": {},
   "source": []
  },
  {
   "cell_type": "markdown",
   "metadata": {},
   "source": [
    "### Subtask 3.3: Gender and Genre\n",
    "\n",
    "If you have closely looked at the Votes- and CVotes-related columns, you might have noticed the suffixes F and M indicating Female and Male. Since we have the vote counts for both males and females, across various age groups, let's now see how the popularity of genres vary between the two genders in the dataframe.\n",
    "\n",
    "1. Make the first heatmap to see how the average number of votes of males is varying across the genres. Use seaborn heatmap for this analysis. The X-axis should contain the four age-groups for males, i.e., CVotesU18M,CVotes1829M, CVotes3044M, and CVotes45AM. The Y-axis will have the genres and the annotation in the heatmap tell the average number of votes for that age-male group.\n",
    "\n",
    "2. Make the second heatmap to see how the average number of votes of females is varying across the genres. Use seaborn heatmap for this analysis. The X-axis should contain the four age-groups for females, i.e., CVotesU18F,CVotes1829F, CVotes3044F, and CVotes45AF. The Y-axis will have the genres and the annotation in the heatmap tell the average number of votes for that age-female group.\n",
    "\n",
    "3. Make sure that you plot these heatmaps side by side using subplots so that you can easily compare the two genders and derive insights.\n",
    "\n",
    "4. Write your any three inferences from this plot. You can make use of the previous bar plot also here for better insights. Refer to this link- https://seaborn.pydata.org/generated/seaborn.heatmap.html. You might have to plot something similar to the fifth chart in this page (You have to plot two such heatmaps side by side).\n",
    "\n",
    "5. Repeat subtasks 1 to 4, but now instead of taking the CVotes-related columns, you need to do the same process for the Votes-related columns. These heatmaps will show you how the two genders have rated movies across various genres.\n",
    "\n",
    "You might need the below link for formatting your heatmap. https://stackoverflow.com/questions/56942670/matplotlib-seaborn-first-and-last-row-cut-in-half-of-heatmap-plot\n",
    "\n",
    "Note : Use genre_top10 dataframe for this subtask"
   ]
  },
  {
   "cell_type": "code",
   "execution_count": null,
   "metadata": {
    "execution": {
     "iopub.execute_input": "2023-09-04T09:10:09.107667Z",
     "iopub.status.busy": "2023-09-04T09:10:09.106665Z",
     "iopub.status.idle": "2023-09-04T09:10:09.132503Z",
     "shell.execute_reply": "2023-09-04T09:10:09.131462Z",
     "shell.execute_reply.started": "2023-09-04T09:10:09.107636Z"
    },
    "trusted": true
   },
   "outputs": [],
   "source": [
    "## First, Lets make the Genre as Index First, earlier we just changed the name of Genre Column.\n",
    "\n",
    "genre_top_10=genre_top_10.set_index('Genre')\n",
    "genre_top_10.head()"
   ]
  },
  {
   "cell_type": "code",
   "execution_count": null,
   "metadata": {
    "execution": {
     "iopub.execute_input": "2023-09-04T09:10:09.134247Z",
     "iopub.status.busy": "2023-09-04T09:10:09.133815Z",
     "iopub.status.idle": "2023-09-04T09:10:09.144531Z",
     "shell.execute_reply": "2023-09-04T09:10:09.143464Z",
     "shell.execute_reply.started": "2023-09-04T09:10:09.134207Z"
    },
    "trusted": true
   },
   "outputs": [],
   "source": [
    "genre_top_10.columns"
   ]
  },
  {
   "cell_type": "code",
   "execution_count": null,
   "metadata": {
    "execution": {
     "iopub.execute_input": "2023-09-04T09:10:09.146719Z",
     "iopub.status.busy": "2023-09-04T09:10:09.146178Z",
     "iopub.status.idle": "2023-09-04T09:10:09.178496Z",
     "shell.execute_reply": "2023-09-04T09:10:09.177425Z",
     "shell.execute_reply.started": "2023-09-04T09:10:09.146691Z"
    },
    "trusted": true
   },
   "outputs": [],
   "source": [
    "### Lets make new dataframe with average Cvotes of M & F\n",
    "\n",
    "#creating pivot_table for heat map of the average number of votes of males across the genres\n",
    "CVotes_M=pd.pivot_table (data=genre_top_10, index='Genre',values=(\"CVotesU18M\",\"CVotes1829M\",\"CVotes3044M\",\"CVotes45AM\"))\n",
    "\n",
    "#creating pivot_table for heat map of the average number of votes of females across the genres\n",
    "CVotes_F=pd.pivot_table (data=genre_top_10, index='Genre',values=(\"CVotesU18F\",\"CVotes1829F\",\"CVotes3044F\",\"CVotes45AF\"))"
   ]
  },
  {
   "cell_type": "code",
   "execution_count": null,
   "metadata": {
    "execution": {
     "iopub.execute_input": "2023-09-04T09:10:09.180370Z",
     "iopub.status.busy": "2023-09-04T09:10:09.179788Z",
     "iopub.status.idle": "2023-09-04T09:10:09.189980Z",
     "shell.execute_reply": "2023-09-04T09:10:09.188960Z",
     "shell.execute_reply.started": "2023-09-04T09:10:09.180338Z"
    },
    "trusted": true
   },
   "outputs": [],
   "source": [
    "CVotes_M"
   ]
  },
  {
   "cell_type": "code",
   "execution_count": null,
   "metadata": {
    "execution": {
     "iopub.execute_input": "2023-09-04T09:10:09.191601Z",
     "iopub.status.busy": "2023-09-04T09:10:09.191174Z",
     "iopub.status.idle": "2023-09-04T09:10:09.212956Z",
     "shell.execute_reply": "2023-09-04T09:10:09.211549Z",
     "shell.execute_reply.started": "2023-09-04T09:10:09.191573Z"
    },
    "trusted": true
   },
   "outputs": [],
   "source": [
    "CVotes_F"
   ]
  },
  {
   "cell_type": "code",
   "execution_count": null,
   "metadata": {
    "execution": {
     "iopub.execute_input": "2023-09-04T09:10:09.215355Z",
     "iopub.status.busy": "2023-09-04T09:10:09.214927Z",
     "iopub.status.idle": "2023-09-04T09:10:10.436909Z",
     "shell.execute_reply": "2023-09-04T09:10:10.435790Z",
     "shell.execute_reply.started": "2023-09-04T09:10:09.215315Z"
    },
    "trusted": true
   },
   "outputs": [],
   "source": [
    "# 1st set of heat maps for CVotes-related columns\n",
    "\n",
    "fig, ax =plt.subplots(1,2,figsize=[15,12])\n",
    "sns.heatmap(CVotes_M,cmap = \"Greens\", fmt=\"d\", annot=True, ax=ax[0])\n",
    "sns.heatmap(CVotes_F,cmap = \"Greens\", fmt=\"d\", annot=True, ax=ax[1])\n",
    "ax[0].set_title('Heatmap for CVotes - Males')\n",
    "ax[1].set_title('Heatmap for CVotes - Females')\n",
    "plt.show()"
   ]
  },
  {
   "cell_type": "markdown",
   "metadata": {},
   "source": [
    "### Inferences: A few inferences that can be seen from the heatmap above is that males have voted more than females, and Sci-Fi appears to be most popular among the 18-29 age group irrespective of their gender. What more can you infer from the two heatmaps that you have plotted? Write your three inferences/observations below:\n",
    "\n",
    "##### Inference 1: 'Sci-Fi' genre is most popular among the 18-29 and 30-44 age group irrespective of their gender.\n",
    "##### Inference 2: 'Action' genre is the second most popular among the 18-29 group for males and 'Adventure' genre is the second most popular among the 18-29 group for females\n",
    "##### Inference 3: Age group under 18, irrespective of their gender, has the lowest number of votes received compared to the other age groups."
   ]
  },
  {
   "cell_type": "code",
   "execution_count": null,
   "metadata": {
    "execution": {
     "iopub.execute_input": "2023-09-04T09:10:10.438593Z",
     "iopub.status.busy": "2023-09-04T09:10:10.438108Z",
     "iopub.status.idle": "2023-09-04T09:10:10.460963Z",
     "shell.execute_reply": "2023-09-04T09:10:10.459905Z",
     "shell.execute_reply.started": "2023-09-04T09:10:10.438551Z"
    },
    "trusted": true
   },
   "outputs": [],
   "source": [
    "#creating pivot_table for heat map of the average number of votes of males across the genres \n",
    "\n",
    "Votes_M=pd.pivot_table (data=genre_top_10, index='Genre',values=(\"VotesU18M\",\"Votes1829M\",\"Votes3044M\",\"Votes45AM\"))\n",
    "\n",
    "#creating pivot_table for heat map of the average number of votes of females across the genres\n",
    "\n",
    "Votes_F=pd.pivot_table (data=genre_top_10, index='Genre',values=(\"VotesU18F\",\"Votes1829F\",\"Votes3044F\",\"Votes45AF\"))"
   ]
  },
  {
   "cell_type": "code",
   "execution_count": null,
   "metadata": {
    "execution": {
     "iopub.execute_input": "2023-09-04T09:10:10.462402Z",
     "iopub.status.busy": "2023-09-04T09:10:10.462113Z",
     "iopub.status.idle": "2023-09-04T09:10:10.476537Z",
     "shell.execute_reply": "2023-09-04T09:10:10.475436Z",
     "shell.execute_reply.started": "2023-09-04T09:10:10.462376Z"
    },
    "trusted": true
   },
   "outputs": [],
   "source": [
    "Votes_M"
   ]
  },
  {
   "cell_type": "code",
   "execution_count": null,
   "metadata": {
    "execution": {
     "iopub.execute_input": "2023-09-04T09:10:10.478092Z",
     "iopub.status.busy": "2023-09-04T09:10:10.477737Z",
     "iopub.status.idle": "2023-09-04T09:10:10.493832Z",
     "shell.execute_reply": "2023-09-04T09:10:10.492840Z",
     "shell.execute_reply.started": "2023-09-04T09:10:10.478063Z"
    },
    "trusted": true
   },
   "outputs": [],
   "source": [
    "Votes_F"
   ]
  },
  {
   "cell_type": "code",
   "execution_count": null,
   "metadata": {
    "execution": {
     "iopub.execute_input": "2023-09-04T09:10:10.495556Z",
     "iopub.status.busy": "2023-09-04T09:10:10.495210Z",
     "iopub.status.idle": "2023-09-04T09:10:11.723958Z",
     "shell.execute_reply": "2023-09-04T09:10:11.722877Z",
     "shell.execute_reply.started": "2023-09-04T09:10:10.495527Z"
    },
    "trusted": true
   },
   "outputs": [],
   "source": [
    "# 2nd set of heat maps for Votes-related columns\n",
    "\n",
    "fig, ax =plt.subplots(1,2,figsize=[15,12])\n",
    "sns.heatmap(Votes_M,cmap = \"Greens\", fmt=\".2f\", annot=True, ax=ax[0])\n",
    "sns.heatmap(Votes_F,cmap = \"Greens\", fmt=\".2f\", annot=True, ax=ax[1])\n",
    "ax[0].set_title('Heatmap for Votes - Males') # Setting the title of the heatmap for males\n",
    "ax[1].set_title('Heatmap for Votes - Females') # Setting the title of the heatmap for females\n",
    "plt.show()"
   ]
  },
  {
   "cell_type": "markdown",
   "metadata": {},
   "source": [
    "### Inferences: Sci-Fi appears to be the highest rated genre in the age group of U18 for both males and females. Also, females in this age group have rated it a bit higher than the males in the same age group. What more can you infer from the two heatmaps that you have plotted? Write your three inferences/observations below:\n",
    "\n",
    "##### Inference 1: Votes from U18 from both F and M have higher ratings in comparsion to ther age groups for most genre. This could be due to two factors - one the young are less critical than older, or the U18 age group in a hurry to rate and rates most movies a similar rating.\n",
    "##### Inference 2: Crime genre has got 8.3 rating, ie almost same rating as SciFi genre from U18. This could be a concern and movie censor boards should look at appropriate content Rating.\n",
    "##### Inference 3: Rating by 45A, both M and F is the least amongst all age groups. Probably being critcal as mentioned in point 1 could be the reason"
   ]
  },
  {
   "cell_type": "markdown",
   "metadata": {},
   "source": [
    "### Subtask 3.4: US vs non-US Cross Analysis\n",
    "The dataset contains both the US and non-US movies. Let's analyse how both the US and the non-US voters have responded to the US and the non-US movies.\n",
    "\n",
    "1. Create a column IFUS in the dataframe movies. The column IFUS should contain the value \"USA\" if the Country of the movie is \"USA\". For all other countries other than the USA, IFUS should contain the value non-USA.\n",
    "\n",
    "2. Now make a boxplot that shows how the number of votes from the US people i.e. CVotesUS is varying for the US and non-US movies. Make use of the column IFUS to make this plot. Similarly, make another subplot that shows how non US voters have voted for the US and non-US movies by plotting CVotesnUS for both the US and non-US movies. Write any of your two inferences/observations from these plots.\n",
    "\n",
    "3. Again do a similar analysis but with the ratings. Make a boxplot that shows how the ratings from the US people i.e. VotesUS is varying for the US and non-US movies. Similarly, make another subplot that shows how VotesnUS is varying for the US and non-US movies. Write any of your two inferences/observations from these plots.\n",
    "\n",
    "Note : Use movies dataframe for this subtask. Make use of this documention to format your boxplot - https://seaborn.pydata.org/generated/seaborn.boxplot.html"
   ]
  },
  {
   "cell_type": "code",
   "execution_count": null,
   "metadata": {
    "execution": {
     "iopub.execute_input": "2023-09-04T09:12:01.430230Z",
     "iopub.status.busy": "2023-09-04T09:12:01.429792Z",
     "iopub.status.idle": "2023-09-04T09:12:01.437709Z",
     "shell.execute_reply": "2023-09-04T09:12:01.436665Z",
     "shell.execute_reply.started": "2023-09-04T09:12:01.430194Z"
    },
    "trusted": true
   },
   "outputs": [],
   "source": [
    "## Let's analyze our original DataFrame again\n",
    "\n",
    "movies.columns"
   ]
  },
  {
   "cell_type": "code",
   "execution_count": null,
   "metadata": {
    "execution": {
     "iopub.execute_input": "2023-09-04T09:12:51.356381Z",
     "iopub.status.busy": "2023-09-04T09:12:51.355993Z",
     "iopub.status.idle": "2023-09-04T09:12:51.364427Z",
     "shell.execute_reply": "2023-09-04T09:12:51.363453Z",
     "shell.execute_reply.started": "2023-09-04T09:12:51.356352Z"
    },
    "trusted": true
   },
   "outputs": [],
   "source": [
    "## We have to see the Country Column for the next task.\n",
    "\n",
    "movies.Country.value_counts()"
   ]
  },
  {
   "cell_type": "code",
   "execution_count": null,
   "metadata": {
    "execution": {
     "iopub.execute_input": "2023-09-04T09:13:29.648579Z",
     "iopub.status.busy": "2023-09-04T09:13:29.648163Z",
     "iopub.status.idle": "2023-09-04T09:13:29.657608Z",
     "shell.execute_reply": "2023-09-04T09:13:29.656576Z",
     "shell.execute_reply.started": "2023-09-04T09:13:29.648543Z"
    },
    "trusted": true
   },
   "outputs": [],
   "source": [
    "movies.Country.value_counts(normalize=True)"
   ]
  },
  {
   "cell_type": "code",
   "execution_count": null,
   "metadata": {
    "execution": {
     "iopub.execute_input": "2023-09-04T09:16:15.359212Z",
     "iopub.status.busy": "2023-09-04T09:16:15.358806Z",
     "iopub.status.idle": "2023-09-04T09:16:15.388244Z",
     "shell.execute_reply": "2023-09-04T09:16:15.386996Z",
     "shell.execute_reply.started": "2023-09-04T09:16:15.359181Z"
    },
    "trusted": true
   },
   "outputs": [],
   "source": [
    "## Lets create a new column \"IFUS\" to distinguish the Country of the movies(USA & non-USA)\n",
    "\n",
    "movies['IFUS'] = movies['Country'].apply(lambda x : \"USA\" if x=='USA' else 'non-USA')\n",
    "\n",
    "movies.head()"
   ]
  },
  {
   "cell_type": "code",
   "execution_count": null,
   "metadata": {
    "execution": {
     "iopub.execute_input": "2023-09-04T09:22:08.631865Z",
     "iopub.status.busy": "2023-09-04T09:22:08.631053Z",
     "iopub.status.idle": "2023-09-04T09:22:08.639874Z",
     "shell.execute_reply": "2023-09-04T09:22:08.638891Z",
     "shell.execute_reply.started": "2023-09-04T09:22:08.631816Z"
    },
    "trusted": true
   },
   "outputs": [],
   "source": [
    "movies.columns"
   ]
  },
  {
   "cell_type": "code",
   "execution_count": null,
   "metadata": {
    "execution": {
     "iopub.execute_input": "2023-09-04T09:27:01.545067Z",
     "iopub.status.busy": "2023-09-04T09:27:01.544692Z",
     "iopub.status.idle": "2023-09-04T09:27:01.978029Z",
     "shell.execute_reply": "2023-09-04T09:27:01.976997Z",
     "shell.execute_reply.started": "2023-09-04T09:27:01.545036Z"
    },
    "trusted": true
   },
   "outputs": [],
   "source": [
    "## Now we have a new Column IFUS - Lets analyse the No. of Votes from (US & non-US region) for USA & Non-USA movies.\n",
    "## Votes for US & Non-US Voters are analyzed side by side.\n",
    "\n",
    "## Box Plot-1 : CVotesUS & CVotesnUS with IFUS\n",
    "\n",
    "fig, ax = plt.subplots(1,2,figsize=[10,8])\n",
    "sns.boxplot(x=\"IFUS\", y=\"CVotesUS\", data=movies, ax=ax[0])\n",
    "sns.boxplot(x=\"IFUS\", y=\"CVotesnUS\", data=movies, ax=ax[1])\n",
    "ax[0].set_title('Votes by US Voters')    # Setting the Title for boxplot for CVotesUS\n",
    "ax[1].set_title('Votes by non-US Voters')  # Setting the Title for boxplot for CVotesnUS\n",
    "plt.show()"
   ]
  },
  {
   "cell_type": "markdown",
   "metadata": {},
   "source": [
    "### **Inferences**: Write your two inferences/observations below:\n",
    "\n",
    "**Inference 1**: First boxplot for votes by US voters, we see that the median is higher(approx.50000) for USA movies and the median is lower(i.e. in the range 45000-48000) for the non-USA movies. We also observe few outliers in the number of votes by USA people for the USA movies whereas there are no outliers for the non-USA movies. Also, the upper hinge i.e. 75th percentile and the lower hinge i.e 25th percentile is more for USA movies compared to non-USA movies.\n",
    "\n",
    "**Inference 2**: Second boxplot for votes by Non-US voters, we see that the median is slightly high for USA movies compared to non-USA movies. Also, the 75th percentile is approximately similar for both USA and non-USA movies. Hence, no of votes received are almost same for USA and non-USA movies for 75th percentile of non-US voters."
   ]
  },
  {
   "cell_type": "code",
   "execution_count": null,
   "metadata": {
    "execution": {
     "iopub.execute_input": "2023-09-04T09:34:38.450027Z",
     "iopub.status.busy": "2023-09-04T09:34:38.449621Z",
     "iopub.status.idle": "2023-09-04T09:34:38.942869Z",
     "shell.execute_reply": "2023-09-04T09:34:38.941477Z",
     "shell.execute_reply.started": "2023-09-04T09:34:38.449991Z"
    },
    "trusted": true
   },
   "outputs": [],
   "source": [
    "## Lets now analyze the Ratings given by US & non-US voters to USA & non-USA movies.\n",
    "\n",
    "## Box Plot - 2 : VotesUS(y) vs IFUS(x)\n",
    "\n",
    "fig, ax = plt.subplots(1,2,figsize=[10,8])\n",
    "sns.boxplot(x=\"IFUS\", y=\"VotesUS\", data=movies, ax=ax[0])\n",
    "sns.boxplot(x=\"IFUS\", y=\"VotesnUS\", data=movies, ax=ax[1])\n",
    "ax[0].set_title('Ratings from US Voters')    # Setting Title for BoxPlot for VotesUS\n",
    "ax[1].set_title('Ratings from non-US Voters')  # Setting Title for BoxPlot for VotesnUS\n",
    "plt.show()"
   ]
  },
  {
   "cell_type": "markdown",
   "metadata": {},
   "source": [
    "### **Inferences**: Write your two inferences/observations below:\n",
    "\n",
    "**Inference 1**: First Box plot reflects that median of USA movies(8.0) is higher than that of Non-USA Movies(7.9), which eflects that US people vote for US based movies more than that of Non-USA Movies. 75 percentile of Non-USA movie votes is equal to the median of US-Movie Votes and 25 percentile for both are the same.\n",
    "\n",
    "**Inference 2**: Second Box plot reflects that the median(7.8) is high for USA movies compared to the median(~7.7) for non-USA movies. This shows that 50th percentile of non-US voters rate more for USA movies compared to non-USA movies. Also, the lower extreme (fence) for ratings for non-USA movies is on the higher end compared to USA movies."
   ]
  },
  {
   "cell_type": "markdown",
   "metadata": {},
   "source": [
    "## **Subtask 3.5: Top 1000 Voters Vs Genres**\n",
    "\n",
    "You might have also observed the column CVotes1000. This column represents the top 1000 voters on IMDb and gives the count for the number of these voters who have voted for a particular movie. Let's see how these top 1000 voters have voted across the genres.\n",
    "\n",
    "1. Sort the dataframe genre_top10 based on the value of CVotes1000in a descending order.\n",
    "\n",
    "2. Make a seaborn barplot for genre vs CVotes1000.\n",
    "\n",
    "3. Write your inferences. You can also try to relate it with the heatmaps you did in the previous subtasks."
   ]
  },
  {
   "cell_type": "code",
   "execution_count": null,
   "metadata": {
    "execution": {
     "iopub.execute_input": "2023-09-04T09:40:02.593052Z",
     "iopub.status.busy": "2023-09-04T09:40:02.592530Z",
     "iopub.status.idle": "2023-09-04T09:40:02.602483Z",
     "shell.execute_reply": "2023-09-04T09:40:02.601150Z",
     "shell.execute_reply.started": "2023-09-04T09:40:02.593009Z"
    },
    "trusted": true
   },
   "outputs": [],
   "source": [
    "## Lets analyze the CVotes1000 column\n",
    "\n",
    "genre_top_10.CVotes1000"
   ]
  },
  {
   "cell_type": "code",
   "execution_count": null,
   "metadata": {
    "execution": {
     "iopub.execute_input": "2023-09-04T09:41:35.547197Z",
     "iopub.status.busy": "2023-09-04T09:41:35.546768Z",
     "iopub.status.idle": "2023-09-04T09:41:35.557537Z",
     "shell.execute_reply": "2023-09-04T09:41:35.556521Z",
     "shell.execute_reply.started": "2023-09-04T09:41:35.547164Z"
    },
    "trusted": true
   },
   "outputs": [],
   "source": [
    "### Sort the genre_top_10 by CVotes1000\n",
    "\n",
    "genre_top_10.sort_values(by=\"CVotes1000\", ascending=False, inplace=True)\n",
    "\n",
    "genre_top_10.CVotes1000"
   ]
  },
  {
   "cell_type": "code",
   "execution_count": null,
   "metadata": {
    "execution": {
     "iopub.execute_input": "2023-09-04T09:41:57.064260Z",
     "iopub.status.busy": "2023-09-04T09:41:57.063843Z",
     "iopub.status.idle": "2023-09-04T09:41:57.090504Z",
     "shell.execute_reply": "2023-09-04T09:41:57.089433Z",
     "shell.execute_reply.started": "2023-09-04T09:41:57.064225Z"
    },
    "trusted": true
   },
   "outputs": [],
   "source": [
    "genre_top_10.head()"
   ]
  },
  {
   "cell_type": "code",
   "execution_count": null,
   "metadata": {
    "execution": {
     "iopub.execute_input": "2023-09-04T09:47:18.727988Z",
     "iopub.status.busy": "2023-09-04T09:47:18.726685Z",
     "iopub.status.idle": "2023-09-04T09:47:18.768908Z",
     "shell.execute_reply": "2023-09-04T09:47:18.767687Z",
     "shell.execute_reply.started": "2023-09-04T09:47:18.727917Z"
    },
    "trusted": true
   },
   "outputs": [],
   "source": [
    "genre_top_10=genre_top_10.reset_index()\n",
    "genre_top_10=genre_top_10.rename(columns={\"index\": \"genres\"})\n",
    "\n",
    "genre_top_10"
   ]
  },
  {
   "cell_type": "code",
   "execution_count": null,
   "metadata": {
    "trusted": true
   },
   "outputs": [],
   "source": [
    "### Lets plot the Bar Plot\n",
    "\n",
    "plt.figure(figsize=[10,8])\n",
    "sns.barplot(data=genre_top_10, x=\"Genre\", y=\"CVotes1000\")\n",
    "plt.show()"
   ]
  },
  {
   "cell_type": "markdown",
   "metadata": {},
   "source": [
    "### **Inferences**: \n",
    "\n",
    "1. Sci-Fi is the popular genre among the top 1000 voters.\n",
    "2. Sci-Fi appears to be the popular genre and highest rated genre in different age groups irrespective of the gender when related to the heatmaps plotted above. Hence, Sci-Fi genre can be considered for making new movies.\n",
    "3. Sci-Fi, Action and Thriller are the top 3 genres among the top 1000 voters.\n",
    "4. Drama, Animation and Romance are the bottom 3 genres which are unpopular among the top 1000 voters."
   ]
  },
  {
   "cell_type": "markdown",
   "metadata": {},
   "source": [
    "## Final Inferences on the Movies Data Set for insights in - What movie to make so it perfoms best.\n",
    "\n",
    "1. Sci-Fi is the most popular genre among all type of age groups as well as top 1000 voters.\n",
    "2. Duration of the movies should be atmost 120 minutes as analyzed earlier.\n",
    "3. Top 3 pairs of three actors to be included are [Leonardo DiCaprio, Tom Hardy, Joseph Gordon-Levitt], [Jennifer Lawrence, Peter Dinklage, Hugh Jackman], [Christian Bale, Joseph Gordon-Levitt]\n",
    "\n",
    "\n",
    "## !!! We can clearly say that if a Sci-Fi movie of 2 hours length is to be made with the above mentioned Trio will work best in USA as well as non-USA markets!!!"
   ]
  },
  {
   "cell_type": "code",
   "execution_count": null,
   "metadata": {},
   "outputs": [],
   "source": []
  }
 ],
 "metadata": {
  "kaggle": {
   "accelerator": "none",
   "dataSources": [
    {
     "datasetId": 3550642,
     "sourceId": 6186401,
     "sourceType": "datasetVersion"
    }
   ],
   "dockerImageVersionId": 30527,
   "isGpuEnabled": false,
   "isInternetEnabled": true,
   "language": "python",
   "sourceType": "notebook"
  },
  "kernelspec": {
   "display_name": "Python 3",
   "language": "python",
   "name": "python3"
  },
  "language_info": {
   "codemirror_mode": {
    "name": "ipython",
    "version": 3
   },
   "file_extension": ".py",
   "mimetype": "text/x-python",
   "name": "python",
   "nbconvert_exporter": "python",
   "pygments_lexer": "ipython3",
   "version": "3.10.12"
  }
 },
 "nbformat": 4,
 "nbformat_minor": 4
}
